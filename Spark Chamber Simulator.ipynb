{
 "cells": [
  {
   "cell_type": "code",
   "execution_count": 1,
   "id": "c4a330d6",
   "metadata": {},
   "outputs": [],
   "source": [
    "import numpy as np\n",
    "import matplotlib.pyplot as plt\n",
    "import random\n",
    "from sympy import Symbol, Eq, solve\n",
    "import matplotlib.patches as patches"
   ]
  },
  {
   "cell_type": "code",
   "execution_count": 2,
   "id": "f74e041e",
   "metadata": {},
   "outputs": [],
   "source": [
    "#i have changed so much i just want github to work\n",
    "width = 18\n",
    "plate_separation = 6\n",
    "plate_num = 6\n",
    "edge_wall1 = 0\n",
    "edge_wall2 = plate_separation*(plate_num)\n",
    "\n",
    "x_co = random.randint(-width/2-2,width/2+2)\n",
    "c_co = random.randint(-width/2-2,width/2+2)\n",
    "x_array = np.linspace(-width/2-2,width/2+2, 1000)\n",
    "\n",
    "y_array = x_co*x_array+c_co"
   ]
  },
  {
   "cell_type": "code",
   "execution_count": 15,
   "id": "70f522cc",
   "metadata": {},
   "outputs": [
    {
     "name": "stdout",
     "output_type": "stream",
     "text": [
      "Hit at 0.5454545454545454, 0\n",
      "Hit at 1.0909090909090908, 6\n",
      "Hit at 1.6363636363636365, 12\n",
      "Hit at 2.1818181818181817, 18\n",
      "Hit at 2.727272727272727, 24\n",
      "Hit at 3.272727272727273, 30\n"
     ]
    },
    {
     "data": {
      "image/png": "[encoded data removed]",
      "text/plain": [
       "<Figure size 432x288 with 1 Axes>"
      ]
     },
     "metadata": {
      "needs_background": "light"
     },
     "output_type": "display_data"
    }
   ],
   "source": [
    "for i in range(plate_num):\n",
    "    plate_location = plate_separation*i\n",
    "    plt.axhline(plate_location)\n",
    "    if x_co == 0:\n",
    "        print('No Interception')\n",
    "        break\n",
    "    else:\n",
    "        x_value = (plate_location - c_co)/x_co\n",
    "        if x_value > -width/2 and x_value<width/2:\n",
    "            print(f'Hit at {x_value}, {plate_location}')\n",
    "        else:\n",
    "            continue\n",
    "    \n",
    "plt.plot(x_array, y_array)\n",
    "plt.ylim(-plate_separation, edge_wall2)\n",
    "plt.xlim(-width/2,width/2)\n",
    "plt.show()"
   ]
  },
  {
   "cell_type": "code",
   "execution_count": 16,
   "id": "552909d0",
   "metadata": {},
   "outputs": [
    {
     "name": "stdout",
     "output_type": "stream",
     "text": [
      "Hit on pixel at 0.5454545454545454 and 0.6363636363636364\n",
      "Hit on pixel at 2.1818181818181817 and 2.272727272727273\n",
      "Hit on pixel at 2.727272727272727 and 2.8181818181818183\n"
     ]
    },
    {
     "data": {
      "image/png": "[encoded data removed]",
      "text/plain": [
       "<Figure size 432x288 with 1 Axes>"
      ]
     },
     "metadata": {
      "needs_background": "light"
     },
     "output_type": "display_data"
    }
   ],
   "source": [
    "pixel = [-10, -8, -6, -4, -2, 0, 2, 4, 6, 8]\n",
    "fig, ax = plt.subplots()\n",
    "\n",
    "for i in range(plate_num):\n",
    "    plate_location = plate_separation*i\n",
    "    x_value_l = (plate_location - c_co)/x_co\n",
    "    x_value_u = (plate_location+1 - c_co)/x_co\n",
    "    for p in pixel:\n",
    "        square = patches.Rectangle((p, plate_location), 1, 1, edgecolor='orange', facecolor='none')\n",
    "        ax.add_patch(square)\n",
    "        if x_value_l > p and x_value_l < p+1:\n",
    "            if x_value_u > p and x_value_u < p+1:\n",
    "                print(f'Hit on pixel at {x_value_l} and {x_value_u}')\n",
    "            else:\n",
    "                print(f'Hit on pixel at {x_value_l}')\n",
    "        \n",
    "        elif x_value_u > p and x_value_u < p+1:\n",
    "            print(f'Hit on pixel at {x_value_u}')\n",
    "            \n",
    "        else:\n",
    "            continue\n",
    "\n",
    "plt.plot(x_array, y_array)\n",
    "plt.ylim(-plate_separation, edge_wall2)\n",
    "plt.xlim(-width/2,width/2)\n",
    "plt.show()"
   ]
  },
  {
   "cell_type": "code",
   "execution_count": 17,
   "id": "5c00784e",
   "metadata": {},
   "outputs": [
    {
     "name": "stdout",
     "output_type": "stream",
     "text": [
      "Hit on pixel at (horizontal) (0.5454545454545454, 0) and (0.6363636363636364, 1)\n",
      "Hit on pixel at (horizontal) (1.0909090909090908, 6) and (1.1818181818181819, 7)\n",
      "Hit on pixel at (horizontal) (2.727272727272727, 24) and (2.8181818181818183, 25)\n",
      "Hit on pixel at (horizontal) (3.272727272727273, 30) and (3.3636363636363638, 31)\n"
     ]
    },
    {
     "data": {
      "image/png": "[encoded data removed]",
      "text/plain": [
       "<Figure size 432x288 with 1 Axes>"
      ]
     },
     "metadata": {
      "needs_background": "light"
     },
     "output_type": "display_data"
    }
   ],
   "source": [
    "pixel = [-10, -8, -6, -4, -2, 0, 2, 4, 6, 8]\n",
    "fig, ax = plt.subplots()\n",
    "\n",
    "for i in range(plate_num):\n",
    "    plate_location = plate_separation*i\n",
    "    x_value_l = (plate_location - c_co)/x_co\n",
    "    x_value_u = (plate_location+1 - c_co)/x_co\n",
    "    \n",
    "    for p in pixel:\n",
    "        if i%2 == 0:\n",
    "            p_l = p\n",
    "            p_u = p+1\n",
    "            \n",
    "        else:\n",
    "            p_l = p+1\n",
    "            p_u = p+2\n",
    "            \n",
    "        y_value_l = (x_co*(p_l)) +c_co\n",
    "        y_value_r = (x_co*(p_u)) +c_co\n",
    "\n",
    "        square = patches.Rectangle((p_l, plate_location), 1, 1, edgecolor='orange', facecolor='none')\n",
    "        ax.add_patch(square)\n",
    "        if x_value_l > p_l and x_value_l < p_u:\n",
    "            if x_value_u > p_l and x_value_u < p_u:\n",
    "                print(f'Hit on pixel at (horizontal) ({x_value_l}, {plate_location}) and ({x_value_u}, {plate_location+1})')\n",
    "            else:\n",
    "                print(f'Hit on pixel at (horizontal lower) ({x_value_l}, {plate_location})')\n",
    "\n",
    "        elif x_value_u > p_l and x_value_u < p_u:\n",
    "            print(f'Hit on pixel at (horizontal upper) ({x_value_u}, {plate_location+1})')\n",
    "\n",
    "        else:\n",
    "            continue\n",
    "            \n",
    "        if y_value_l >= plate_location and y_value_l <= plate_location+1:\n",
    "            if y_value_r >= plate_location and y_value_r <= plate_location+1:\n",
    "                print(f'Hit on pixel at (vertical) ({p_l}, {y_value_l}) and ({p_u}, {y_value_r})')\n",
    "            else:\n",
    "                print(f'Hit on pixel at (vertical left) ({p_l}, {y_value_l})')\n",
    "            \n",
    "        elif y_value_r >= plate_location and y_value_r <= plate_location+1:\n",
    "            print(f'Hit on pixel at (vertical right) ({p_u}, {y_value_r})')\n",
    "        \n",
    "        else:\n",
    "            continue\n",
    "            \n",
    "            \n",
    "plt.plot(x_array, y_array)\n",
    "plt.ylim(-plate_separation, edge_wall2)\n",
    "plt.xlim(-width/2,width/2)\n",
    "plt.show()"
   ]
  },
  {
   "cell_type": "code",
   "execution_count": 20,
   "id": "ce9142ab",
   "metadata": {},
   "outputs": [
    {
     "name": "stdout",
     "output_type": "stream",
     "text": [
      "Hit on pixel at (horizontal) (0.5454545454545454, 0) and (0.6363636363636364, 1)\n"
     ]
    },
    {
     "data": {
      "image/png": "[encoded data removed]",
      "text/plain": [
       "<Figure size 432x288 with 1 Axes>"
      ]
     },
     "metadata": {
      "needs_background": "light"
     },
     "output_type": "display_data"
    }
   ],
   "source": [
    "pixel_size = 1\n",
    "pixel = np.linspace(-width/2, width/2, 3)\n",
    "diff = pixel[1] - pixel[0]\n",
    "fig, ax = plt.subplots()\n",
    "\n",
    "for i in range(plate_num):\n",
    "    plate_location = plate_separation*i\n",
    "    x_value_l = (plate_location - c_co)/x_co\n",
    "    x_value_u = (plate_location+1 - c_co)/x_co\n",
    "    \n",
    "    for p in pixel:\n",
    "        if i%2 == 0:\n",
    "            p_l = p\n",
    "            p_u = p+pixel_size\n",
    "            \n",
    "        else:\n",
    "            p_l = p+(diff/2)\n",
    "            p_u = p+(diff/2)+pixel_size\n",
    "            \n",
    "        y_value_l = (x_co*(p_l)) +c_co\n",
    "        y_value_r = (x_co*(p_u)) +c_co\n",
    "\n",
    "        square = patches.Rectangle((p_l, plate_location), pixel_size, pixel_size, edgecolor='orange', facecolor='none')\n",
    "        ax.add_patch(square)\n",
    "        if x_value_l > p_l and x_value_l < p_u:\n",
    "            if x_value_u > p_l and x_value_u < p_u:\n",
    "                print(f'Hit on pixel at (horizontal) ({x_value_l}, {plate_location}) and ({x_value_u}, {plate_location+1})')\n",
    "            else:\n",
    "                print(f'Hit on pixel at (horizontal lower) ({x_value_l}, {plate_location})')\n",
    "\n",
    "        elif x_value_u > p_l and x_value_u < p_u:\n",
    "            print(f'Hit on pixel at (horizontal upper) ({x_value_u}, {plate_location+1})')\n",
    "\n",
    "        else:\n",
    "            continue\n",
    "            \n",
    "        if y_value_l >= plate_location and y_value_l <= plate_location+1:\n",
    "            if y_value_r >= plate_location and y_value_r <= plate_location+1:\n",
    "                print(f'Hit on pixel at (vertical) ({p_l}, {y_value_l}) and ({p_u}, {y_value_r})')\n",
    "            else:\n",
    "                print(f'Hit on pixel at (vertical left) ({p_l}, {y_value_l})')\n",
    "            \n",
    "        elif y_value_r >= plate_location and y_value_r <= plate_location+1:\n",
    "            print(f'Hit on pixel at (vertical right) ({p_u}, {y_value_r})')\n",
    "        \n",
    "        else:\n",
    "            continue\n",
    "            \n",
    "            \n",
    "plt.plot(x_array, y_array)\n",
    "plt.ylim(-plate_separation, edge_wall2)\n",
    "plt.xlim(-width/2,width/2+2)\n",
    "plt.show()"
   ]
  },
  {
   "cell_type": "code",
   "execution_count": null,
   "id": "b61d231e",
   "metadata": {},
   "outputs": [],
   "source": []
  },
  {
   "cell_type": "code",
   "execution_count": 19,
   "id": "bcecfc00",
   "metadata": {},
   "outputs": [
    {
     "name": "stdout",
     "output_type": "stream",
     "text": [
      "Hit {x_point: 6/11, y_point: 0}\n",
      "Hit {x_point: 12/11, y_point: 6}\n",
      "Hit {x_point: 18/11, y_point: 12}\n",
      "Hit {x_point: 24/11, y_point: 18}\n",
      "Hit {x_point: 30/11, y_point: 24}\n",
      "Hit {x_point: 36/11, y_point: 30}\n"
     ]
    }
   ],
   "source": [
    "x_point = Symbol('x_point')\n",
    "y_point = Symbol('y_point')\n",
    "\n",
    "for i in range(plate_num):\n",
    "    plate_location = plate_separation*i\n",
    "    intersection = solve((Eq(y_point ,x_co*x_point+c_co), Eq(y_point, plate_location)),(x_point,y_point))\n",
    "    if intersection == []:\n",
    "        continue\n",
    "    else:\n",
    "        print(f'Hit {intersection}')"
   ]
  },
  {
   "cell_type": "code",
   "execution_count": 69,
   "id": "d435af57",
   "metadata": {},
   "outputs": [
    {
     "name": "stdout",
     "output_type": "stream",
     "text": [
      "[-10.  -5.   0.   5.  10.]\n"
     ]
    }
   ],
   "source": [
    "print(pixel)"
   ]
  },
  {
   "cell_type": "code",
   "execution_count": null,
   "id": "a8bc44db",
   "metadata": {},
   "outputs": [],
   "source": []
  }
 ],
 "metadata": {
  "kernelspec": {
   "display_name": "Python 3 (ipykernel)",
   "language": "python",
   "name": "python3"
  },
  "language_info": {
   "codemirror_mode": {
    "name": "ipython",
    "version": 3
   },
   "file_extension": ".py",
   "mimetype": "text/x-python",
   "name": "python",
   "nbconvert_exporter": "python",
   "pygments_lexer": "ipython3",
   "version": "3.9.7"
  }
 },
 "nbformat": 4,
 "nbformat_minor": 5
}
